{
 "cells": [
  {
   "cell_type": "code",
   "execution_count": 4,
   "id": "80b420a9-95b7-4f5b-be71-9b89c9d9b79c",
   "metadata": {},
   "outputs": [
    {
     "name": "stdout",
     "output_type": "stream",
     "text": [
      "2\n",
      "4\n",
      "1\n",
      "6\n",
      "3\n",
      "8\n",
      "4\n",
      "65\n",
      "0\n",
      "6\n"
     ]
    }
   ],
   "source": [
    "# Q1. For Loop : For loop is used when we want to process a collection. It is a collection processing loop.\n",
    "\n",
    "# Example for loop :\n",
    "\n",
    "# defining a list\n",
    "lst = [2,4,1,6,3,8,4,65,0,6]\n",
    "\n",
    "# using for loop\n",
    "for i in lst:\n",
    "    print(i)"
   ]
  },
  {
   "cell_type": "code",
   "execution_count": 5,
   "id": "90c81c12-4619-421e-8647-ee8ce12cbaff",
   "metadata": {},
   "outputs": [
    {
     "name": "stdout",
     "output_type": "stream",
     "text": [
      "0\n",
      "1\n",
      "2\n",
      "3\n",
      "4\n",
      "5\n",
      "6\n",
      "7\n",
      "8\n",
      "9\n"
     ]
    }
   ],
   "source": [
    "# While Loop : While loop is used when we want to repeatedly execute the statements\n",
    "\n",
    "#example of while loop :\n",
    "\n",
    "i = 0\n",
    "\n",
    "while i<10:\n",
    "    print(i)\n",
    "    i+=1\n"
   ]
  },
  {
   "cell_type": "code",
   "execution_count": 6,
   "id": "997f6ccd-b817-4d97-b596-53fd61ba8fcb",
   "metadata": {},
   "outputs": [
    {
     "name": "stdout",
     "output_type": "stream",
     "text": [
      "Sum is 55\n",
      "Product is 3628800\n"
     ]
    }
   ],
   "source": [
    "# Q2. Sum and product of first 10 natural numbers\n",
    "\n",
    "# using for loop\n",
    "\n",
    "sum = 0 \n",
    "pro = 1\n",
    "\n",
    "for i in range(1,11):\n",
    "    sum = sum + i\n",
    "    pro = pro * i\n",
    "print('Sum is', sum)\n",
    "print('Product is', pro)"
   ]
  },
  {
   "cell_type": "code",
   "execution_count": 7,
   "id": "1f0a827e-ea57-4fc1-9fbd-063b36f4ee5a",
   "metadata": {},
   "outputs": [
    {
     "name": "stdout",
     "output_type": "stream",
     "text": [
      "Sum is 55\n",
      "Product is 3628800\n"
     ]
    }
   ],
   "source": [
    "# using while loop\n",
    "\n",
    "i=1\n",
    "sum = 0\n",
    "pro = 1\n",
    "\n",
    "while i<=10:\n",
    "    sum = sum + i\n",
    "    pro = pro * i\n",
    "    i+=1\n",
    "print('Sum is', sum)\n",
    "print('Product is', pro)"
   ]
  },
  {
   "cell_type": "code",
   "execution_count": 9,
   "id": "a0719219-210a-4109-8f39-58627ec090a3",
   "metadata": {},
   "outputs": [
    {
     "name": "stdin",
     "output_type": "stream",
     "text": [
      "Enter Units of Electricity consumed in a month:  310\n"
     ]
    },
    {
     "data": {
      "text/plain": [
       "2250.0"
      ]
     },
     "execution_count": 9,
     "metadata": {},
     "output_type": "execute_result"
    }
   ],
   "source": [
    "# Q3. Electricity bill of customer\n",
    "\n",
    "units = int(input('Enter Units of Electricity consumed in a month: '))\n",
    "\n",
    "if units>300:\n",
    "    bill = (100*4.5) + (100*6) + (100*10) + ((units-300)*20)\n",
    "elif units>200:\n",
    "    bill = (100*4.5) + (100*6) + ((units-200)*10)\n",
    "elif units>100:\n",
    "    bill = (100*4.5) + ((units-100)*6)\n",
    "else:\n",
    "    bill = units * 4.5\n",
    "    \n",
    "bill"
   ]
  },
  {
   "cell_type": "code",
   "execution_count": 10,
   "id": "66f15111-6fc4-4702-bef0-9108b30816f5",
   "metadata": {},
   "outputs": [
    {
     "data": {
      "text/plain": [
       "[2,\n",
       " 4,\n",
       " 5,\n",
       " 6,\n",
       " 8,\n",
       " 10,\n",
       " 12,\n",
       " 14,\n",
       " 15,\n",
       " 16,\n",
       " 18,\n",
       " 20,\n",
       " 22,\n",
       " 24,\n",
       " 25,\n",
       " 26,\n",
       " 28,\n",
       " 30,\n",
       " 32,\n",
       " 34,\n",
       " 35,\n",
       " 36,\n",
       " 38,\n",
       " 40,\n",
       " 42,\n",
       " 44,\n",
       " 45,\n",
       " 46,\n",
       " 48,\n",
       " 50,\n",
       " 52,\n",
       " 54,\n",
       " 55,\n",
       " 56,\n",
       " 58,\n",
       " 60,\n",
       " 62,\n",
       " 64,\n",
       " 65,\n",
       " 66,\n",
       " 68,\n",
       " 70,\n",
       " 72,\n",
       " 74,\n",
       " 75,\n",
       " 76,\n",
       " 78,\n",
       " 80,\n",
       " 82,\n",
       " 84,\n",
       " 85,\n",
       " 86,\n",
       " 88,\n",
       " 90,\n",
       " 92,\n",
       " 94,\n",
       " 95,\n",
       " 96,\n",
       " 98,\n",
       " 100]"
      ]
     },
     "execution_count": 10,
     "metadata": {},
     "output_type": "execute_result"
    }
   ],
   "source": [
    "# Q4. \n",
    "\n",
    "# using for loop\n",
    "lst = list(range(1,101))\n",
    "new_lst = []\n",
    "\n",
    "for i in lst:\n",
    "    cube = i**3\n",
    "    if cube%4==0 or cube %5==0:\n",
    "        new_lst.append(i)\n",
    "new_lst"
   ]
  },
  {
   "cell_type": "code",
   "execution_count": 11,
   "id": "b0f20609-9a84-4599-acaa-8677852d0471",
   "metadata": {},
   "outputs": [
    {
     "data": {
      "text/plain": [
       "[2,\n",
       " 4,\n",
       " 5,\n",
       " 6,\n",
       " 8,\n",
       " 10,\n",
       " 12,\n",
       " 14,\n",
       " 15,\n",
       " 16,\n",
       " 18,\n",
       " 20,\n",
       " 22,\n",
       " 24,\n",
       " 25,\n",
       " 26,\n",
       " 28,\n",
       " 30,\n",
       " 32,\n",
       " 34,\n",
       " 35,\n",
       " 36,\n",
       " 38,\n",
       " 40,\n",
       " 42,\n",
       " 44,\n",
       " 45,\n",
       " 46,\n",
       " 48,\n",
       " 50,\n",
       " 52,\n",
       " 54,\n",
       " 55,\n",
       " 56,\n",
       " 58,\n",
       " 60,\n",
       " 62,\n",
       " 64,\n",
       " 65,\n",
       " 66,\n",
       " 68,\n",
       " 70,\n",
       " 72,\n",
       " 74,\n",
       " 75,\n",
       " 76,\n",
       " 78,\n",
       " 80,\n",
       " 82,\n",
       " 84,\n",
       " 85,\n",
       " 86,\n",
       " 88,\n",
       " 90,\n",
       " 92,\n",
       " 94,\n",
       " 95,\n",
       " 96,\n",
       " 98,\n",
       " 100]"
      ]
     },
     "execution_count": 11,
     "metadata": {},
     "output_type": "execute_result"
    }
   ],
   "source": [
    "# using while loop\n",
    "\n",
    "new_lst = []\n",
    "i = 1\n",
    "\n",
    "while i<=100:\n",
    "    cube = i**3\n",
    "    if cube%4==0 or cube %5==0:\n",
    "        new_lst.append(i)\n",
    "    i+=1\n",
    "new_lst"
   ]
  },
  {
   "cell_type": "code",
   "execution_count": 12,
   "id": "46600291-0085-456d-ad51-942e36790bcb",
   "metadata": {},
   "outputs": [
    {
     "data": {
      "text/plain": [
       "12"
      ]
     },
     "execution_count": 12,
     "metadata": {},
     "output_type": "execute_result"
    }
   ],
   "source": [
    "# Q5.\n",
    "string = 'I want to become a data scientist'\n",
    "\n",
    "count = 0\n",
    "\n",
    "for i in string:\n",
    "    if i=='a' or i=='A' or i=='e' or i=='E' or i=='i' or i=='I' or i=='o' or i=='O' or i=='u' or i=='U':\n",
    "        count = count + 1\n",
    "count"
   ]
  },
  {
   "cell_type": "code",
   "execution_count": null,
   "id": "5fa708be-b95b-48c0-892c-01eb01a9ec2f",
   "metadata": {},
   "outputs": [],
   "source": []
  }
 ],
 "metadata": {
  "kernelspec": {
   "display_name": "Python 3 (ipykernel)",
   "language": "python",
   "name": "python3"
  },
  "language_info": {
   "codemirror_mode": {
    "name": "ipython",
    "version": 3
   },
   "file_extension": ".py",
   "mimetype": "text/x-python",
   "name": "python",
   "nbconvert_exporter": "python",
   "pygments_lexer": "ipython3",
   "version": "3.10.8"
  }
 },
 "nbformat": 4,
 "nbformat_minor": 5
}
